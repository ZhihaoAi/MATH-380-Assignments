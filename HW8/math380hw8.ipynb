{
 "cells": [
  {
   "cell_type": "code",
   "execution_count": 20,
   "metadata": {},
   "outputs": [],
   "source": [
    "import numpy as np\n",
    "from numpy.random import random\n",
    "import matplotlib.pyplot as plt"
   ]
  },
  {
   "cell_type": "code",
   "execution_count": 18,
   "metadata": {},
   "outputs": [
    {
     "data": {
      "text/plain": [
       "[<matplotlib.lines.Line2D at 0x116410978>]"
      ]
     },
     "execution_count": 18,
     "metadata": {},
     "output_type": "execute_result"
    },
    {
     "data": {
      "image/png": "[encoded data removed]",
      "text/plain": [
       "<Figure size 432x288 with 1 Axes>"
      ]
     },
     "metadata": {},
     "output_type": "display_data"
    }
   ],
   "source": [
    "x = np.linspace(0, 6, 100)\n",
    "f1 = lambda x:x**2\n",
    "f2 = lambda x:6-x\n",
    "plt.plot(x, f1(x))\n",
    "plt.plot(x, f2(x))\n",
    "plt.plot(x, np.zeros(len(x)))"
   ]
  },
  {
   "cell_type": "code",
   "execution_count": 35,
   "metadata": {},
   "outputs": [
    {
     "name": "stdout",
     "output_type": "stream",
     "text": [
      "3.138052\n"
     ]
    }
   ],
   "source": [
    "c = 0\n",
    "n = 1000000\n",
    "for i in range(n):\n",
    "    xi = random(1)\n",
    "    yi = random(1)\n",
    "    if xi**2 + yi**2 <= 1:\n",
    "        c = c+1\n",
    "print(4*c/n)"
   ]
  },
  {
   "cell_type": "code",
   "execution_count": 34,
   "metadata": {},
   "outputs": [
    {
     "name": "stdout",
     "output_type": "stream",
     "text": [
      "10.656504\n"
     ]
    }
   ],
   "source": [
    "c = 0\n",
    "n = 1000000\n",
    "for i in range(n):\n",
    "    xi = random(1)*6\n",
    "    yi = random(1)*6\n",
    "    if yi <= np.min([f1(xi), f2(xi)]):\n",
    "        c = c+1\n",
    "print(36*c/n)"
   ]
  },
  {
   "cell_type": "code",
   "execution_count": 38,
   "metadata": {},
   "outputs": [
    {
     "name": "stdout",
     "output_type": "stream",
     "text": [
      "35.505664\n"
     ]
    }
   ],
   "source": [
    "c = 0\n",
    "n = 1000000\n",
    "for i in range(n):\n",
    "    xi = random(1)*4-2\n",
    "    yi = random(1)*4-2\n",
    "    zi = random(1)*8\n",
    "    if zi <= 8-xi**2-yi**2 and zi >= xi**2+3*yi**2:\n",
    "        c = c+1\n",
    "print(4*4*8*c/n)"
   ]
  },
  {
   "cell_type": "code",
   "execution_count": 43,
   "metadata": {},
   "outputs": [
    {
     "data": {
      "text/plain": [
       "'00000004'"
      ]
     },
     "execution_count": 43,
     "metadata": {},
     "output_type": "execute_result"
    }
   ],
   "source": [
    "'4'.zfill(8)"
   ]
  },
  {
   "cell_type": "code",
   "execution_count": 39,
   "metadata": {},
   "outputs": [
    {
     "data": {
      "text/plain": [
       "'426692449089'"
      ]
     },
     "execution_count": 39,
     "metadata": {},
     "output_type": "execute_result"
    }
   ],
   "source": [
    "str(653217**2)[]"
   ]
  },
  {
   "cell_type": "code",
   "execution_count": 50,
   "metadata": {},
   "outputs": [
    {
     "name": "stdout",
     "output_type": "stream",
     "text": [
      "0 & 653217 & 426692449089 \\\\ \\midrule\n",
      "1 & 692449 & 479485617601 \\\\ \\midrule\n",
      "2 & 485617 & 235823870689 \\\\ \\midrule\n",
      "3 & 823870 & 678761776900 \\\\ \\midrule\n",
      "4 & 761776 & 580302674176 \\\\ \\midrule\n",
      "5 & 302674 & 91611550276 \\\\ \\midrule\n",
      "6 & 611550 & 373993402500 \\\\ \\midrule\n",
      "7 & 993402 & 986847533604 \\\\ \\midrule\n",
      "8 & 847533 & 718312186089 \\\\ \\midrule\n",
      "9 & 312186 & 97460098596 \\\\ \\midrule\n",
      "10 & 460098 & 211690169604 \\\\ \\midrule\n",
      "11 & 690169 & 476333248561 \\\\ \\midrule\n",
      "12 & 333248 & 111054229504 \\\\ \\midrule\n",
      "13 & 54229 & 2940784441 \\\\ \\midrule\n",
      "14 & 940784 & 885074534656 \\\\ \\midrule\n",
      "15 & 74534 & 5555317156 \\\\ \\midrule\n",
      "16 & 555317 & 308376970489 \\\\ \\midrule\n",
      "17 & 376970 & 142106380900 \\\\ \\midrule\n",
      "18 & 106380 & 11316704400 \\\\ \\midrule\n",
      "19 & 316704 & 100301423616 \\\\ \\midrule\n",
      "20 & 301423 & 90855824929 \\\\ \\midrule\n",
      "21 & 855824 & 732434718976 \\\\ \\midrule\n"
     ]
    }
   ],
   "source": [
    "x0 = 653217\n",
    "for i in range(22):\n",
    "    print('%d & %d & %d \\\\\\\\ \\midrule' % (i, x0, x0**2))\n",
    "    x0 = int(str(x0**2).zfill(12)[3:-3])"
   ]
  },
  {
   "cell_type": "code",
   "execution_count": 55,
   "metadata": {},
   "outputs": [
    {
     "name": "stdout",
     "output_type": "stream",
     "text": [
      "0 & 1 & 8 \\\\ \\midrule\n",
      "1 & 8 & 11 \\\\ \\midrule\n",
      "2 & 11 & 10 \\\\ \\midrule\n",
      "3 & 10 & 5 \\\\ \\midrule\n",
      "4 & 5 & 12 \\\\ \\midrule\n",
      "5 & 12 & 15 \\\\ \\midrule\n",
      "6 & 15 & 14 \\\\ \\midrule\n",
      "7 & 14 & 9 \\\\ \\midrule\n",
      "8 & 9 & 0 \\\\ \\midrule\n",
      "9 & 0 & 3 \\\\ \\midrule\n",
      "10 & 3 & 2 \\\\ \\midrule\n",
      "11 & 2 & 13 \\\\ \\midrule\n",
      "12 & 13 & 4 \\\\ \\midrule\n",
      "13 & 4 & 7 \\\\ \\midrule\n",
      "14 & 7 & 6 \\\\ \\midrule\n",
      "15 & 6 & 1 \\\\ \\midrule\n",
      "16 & 1 & 8 \\\\ \\midrule\n",
      "17 & 8 & 11 \\\\ \\midrule\n",
      "18 & 11 & 10 \\\\ \\midrule\n",
      "19 & 10 & 5 \\\\ \\midrule\n",
      "20 & 5 & 12 \\\\ \\midrule\n",
      "21 & 12 & 15 \\\\ \\midrule\n"
     ]
    }
   ],
   "source": [
    "x0 = 1\n",
    "a, b, c = 5, 3, 16\n",
    "for i in range(22):\n",
    "    print('%d & %d & %d \\\\\\\\ \\midrule' % (i, x0, (a*x0+b)%c))\n",
    "    x0 = (a*x0+b)%c"
   ]
  },
  {
   "cell_type": "code",
   "execution_count": null,
   "metadata": {},
   "outputs": [],
   "source": []
  }
 ],
 "metadata": {
  "kernelspec": {
   "display_name": "Python 3",
   "language": "python",
   "name": "python3"
  },
  "language_info": {
   "codemirror_mode": {
    "name": "ipython",
    "version": 3
   },
   "file_extension": ".py",
   "mimetype": "text/x-python",
   "name": "python",
   "nbconvert_exporter": "python",
   "pygments_lexer": "ipython3",
   "version": "3.6.8"
  }
 },
 "nbformat": 4,
 "nbformat_minor": 2
}
